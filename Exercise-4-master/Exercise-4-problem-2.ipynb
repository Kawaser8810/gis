{
 "cells": [
  {
   "cell_type": "markdown",
   "metadata": {
    "deletable": true,
    "editable": true
   },
   "source": [
    "## Problem 2: Calculate and visualize the dominance areas of shopping centers (10 points)\n",
    "\n",
    "In this problem, the aim is to define the dominance area for each of those shopping centers based on travel time. As a result, you should have two maps that look something like following:\n",
    "\n",
    "![](P2_sample.png)\n",
    "\n",
    "\n",
    "### Data\n",
    "\n",
    " - A dataset in [data/](data/) directory contains 7 text files having data about accessibility in Helsinki Region, and a Shapefile that contains a Polygon grid that can be used to visualize and analyze the data spatially. The datasets are:\n",
    " \n",
    "     - `travel_times_to_[XXXXXXX]_[NAME-OF-THE-CENTER].txt` including travel times and road network distances to specific shopping center\n",
    "     - `MetropAccess_YKR_grid_EurefFIN.shp` including the Polygon grid with YKR_ID column that can be used to join the grid with the    accessibility data\n",
    "\n",
    "\n",
    "### An overview of the problem\n",
    "\n",
    "In this problem we want to identify the colsest shopping center for each grid cell in the region, and to visualize dominance areas for each shopping center based on this information. Here is an overview of the required steps:\n",
    "\n",
    " - First, combine travel time information from all input files. You will need to **iterate over the accessibility files one by one** and:\n",
    "     - rename the travel time columns so that they can be identified. You can include e.g. a index number X of the associated shopping center to each column: `pt_r_t_0`, `pt_r_t_1`, and so on.\n",
    "     - Join those columns into MetropAccess_YKR_grid_EurefFIN.shp where `YKR_ID` in the grid corresponds to `from_id` in the travel time data file. \n",
    "     - **At the end you should have one GeoDataFrame with different columns showing the travel times to different shopping centers.**\n",
    "     \n",
    "- Find out the closes shopping center for each grid cell in the region:\n",
    "    - For each grid cell (each row) find out the **minimum** value of **all** `pt_r_t_X` columns and insert that value into a new column called `min_t`. \n",
    "    - You should also parse the information about which column has the minimum value using `idxmin()` function into a column called `min_idx`. \n",
    "    - In this, way are able to determine the \"closest\" shopping center for each grid cell and visualize it either by travel times or by using the `YKR_ID` number of the shopping center (i.e. that number series that was used in column name).\n",
    "    \n",
    "    \n",
    "- Visualize the dominance areas and travel times:\n",
    "     - visualize the dominance areas using the names found in `min_idx`. \n",
    "     - Visualize travel times to shopping centers from the `min_t` column \n",
    "     - You should create subplots with 2 rows and one column (see the example above).\n",
    "     \n",
    " - Upload all your work into your own Exercise 4 repository.\n",
    " \n",
    "### Steps"
   ]
  },
  {
   "cell_type": "markdown",
   "metadata": {
    "deletable": true,
    "editable": true
   },
   "source": [
    "- Fetch the filepaths to all textfiles found in [data/](/data) directory that contain information about the travel times to different shopping centers\n",
    "  - Use `glob.glob()` -function to automatically read all the files into a list called `filepaths`\n",
    "\n",
    "- Read `MetropAccess_YKR_grid_EurefFIN.shp` shapefile into a variable called `grid`"
   ]
  },
  {
   "cell_type": "code",
   "execution_count": null,
   "metadata": {
    "collapsed": true,
    "deletable": false,
    "editable": true,
    "nbgrader": {
     "checksum": "85d6d019e5a3ab02634814ca30c19990",
     "grade": false,
     "grade_id": "read_filepaths",
     "locked": false,
     "schema_version": 1,
     "solution": true
    }
   },
   "outputs": [],
   "source": [
    "# REPLACE THE ERROR BELOW WITH YOUR OWN CODE\n",
    "raise NotImplementedError()"
   ]
  },
  {
   "cell_type": "code",
   "execution_count": null,
   "metadata": {
    "collapsed": false,
    "deletable": false,
    "editable": false,
    "nbgrader": {
     "checksum": "ab16ff6f2836da815f799ab84f4057de",
     "grade": true,
     "grade_id": "read_filepaths_test",
     "locked": true,
     "points": 1,
     "schema_version": 1,
     "solution": false
    }
   },
   "outputs": [],
   "source": [
    "#Feel free to modify this cell, but please use the provided variable names! :)\n",
    "\n",
    "# Check how many filepaths there are\n",
    "print(len(filepaths))\n",
    "\n",
    "#Check input grid\n",
    "print(grid.head())\n"
   ]
  },
  {
   "cell_type": "markdown",
   "metadata": {
    "deletable": true,
    "editable": true
   },
   "source": [
    "**Combine information from all the input layers into one GeoDataFrame that contains the grid geometry, and travel times to all shopping centers:** \n",
    "\n",
    "Iterate over `filepaths` list using `enumerate()` function using this syntax: `for idx, fp in enumerate(filepaths):` .... This for-loop contains information about the number of the iteration (stored in variable `idx`) and the filepath (stored in variable `fp`). Inside the loop, you should:\n",
    "\n",
    "  - Read the current file that you are iterating over with Pandas into a variable called `data`\n",
    "  - Select columns `from_id` and `pt_r_t` from the data (= subset the data so that it only contains these columns)\n",
    "  - Rename the column `pt_r_t` in a way that it has the current index value of the loop associated with the name:\n",
    "     \n",
    "     - I.e. on first iteration the column name should be `pt_r_t_0`, and on the second iteration `pt_r_t_1` and so on.\n",
    "  - Make a table join between the `grid` GeoDataFrame and the `data` (with updated column name) using the `merge()` function\n",
    "\n",
    "After this loop you should have a GeoDataFrame with at least these columns: `from_id`, `pt_r_t_0`, `pt_r_t_1`, `pt_r_t_2`, `pt_r_t_3`, `pt_r_t_4`, `pt_r_t_5`, `pt_r_t_6`,\n"
   ]
  },
  {
   "cell_type": "code",
   "execution_count": null,
   "metadata": {
    "collapsed": false,
    "deletable": false,
    "editable": true,
    "nbgrader": {
     "checksum": "f798cb4d7e7571d731058d80cbf71057",
     "grade": false,
     "grade_id": "merge_traveltimes",
     "locked": false,
     "schema_version": 1,
     "solution": true
    }
   },
   "outputs": [],
   "source": [
    "# REPLACE THE ERROR BELOW WITH YOUR OWN CODE\n",
    "raise NotImplementedError()"
   ]
  },
  {
   "cell_type": "code",
   "execution_count": null,
   "metadata": {
    "collapsed": false,
    "deletable": false,
    "editable": false,
    "nbgrader": {
     "checksum": "2df92b8cad6a51afe70ddcd3ca7ad7d1",
     "grade": true,
     "grade_id": "merge_traveltimes_tests",
     "locked": true,
     "points": 2,
     "schema_version": 1,
     "solution": false
    }
   },
   "outputs": [],
   "source": [
    "# Check the data:\n",
    "grid.head()\n"
   ]
  },
  {
   "cell_type": "markdown",
   "metadata": {
    "deletable": true,
    "editable": true
   },
   "source": [
    "Replace -1 with \"No Data\" using numpy's np.nan (in order to exclude no data from the final calculations and maps)"
   ]
  },
  {
   "cell_type": "code",
   "execution_count": null,
   "metadata": {
    "collapsed": true,
    "deletable": false,
    "editable": true,
    "nbgrader": {
     "checksum": "16839d6c52be4c83c397a0d2e00cffc3",
     "grade": false,
     "grade_id": "no_data",
     "locked": false,
     "schema_version": 1,
     "solution": true
    }
   },
   "outputs": [],
   "source": [
    "# REPLACE THE ERROR BELOW WITH YOUR OWN CODE\n",
    "raise NotImplementedError()"
   ]
  },
  {
   "cell_type": "markdown",
   "metadata": {
    "deletable": true,
    "editable": true
   },
   "source": [
    "Find out the closes shopping center for each grid cell in the region:\n",
    "\n",
    "- For each grid cell (each row), find out the shortest travel time to any shopping center. Store the result in a new column `'min_t'`.\n",
    "- Find out also the column name (the shopping center index), for the shortest travel time using the `idxmin()` function into a column called `min_idx`. "
   ]
  },
  {
   "cell_type": "code",
   "execution_count": null,
   "metadata": {
    "collapsed": false,
    "deletable": false,
    "editable": true,
    "nbgrader": {
     "checksum": "3c67d97d08e328f631a13c9244b67941",
     "grade": false,
     "grade_id": "min_t",
     "locked": false,
     "schema_version": 1,
     "solution": true
    }
   },
   "outputs": [],
   "source": [
    "# REPLACE THE ERROR BELOW WITH YOUR OWN CODE\n",
    "raise NotImplementedError()"
   ]
  },
  {
   "cell_type": "code",
   "execution_count": null,
   "metadata": {
    "collapsed": false,
    "deletable": false,
    "editable": false,
    "nbgrader": {
     "checksum": "ed31e822e195d72dbfc30c056c104dc5",
     "grade": true,
     "grade_id": "min_t_test",
     "locked": true,
     "points": 4,
     "schema_version": 1,
     "solution": false
    }
   },
   "outputs": [],
   "source": [
    "grid.head()\n"
   ]
  },
  {
   "cell_type": "markdown",
   "metadata": {
    "deletable": true,
    "editable": true
   },
   "source": [
    "- Visualize the dominance areas and travel times in one figure which has 2 subplots (2 rows and one column):\n",
    "     - visualize the dominance areas using the names found in `min_idx`. \n",
    "     - Visualize travel times to shopping centers from the `min_t` column \n"
   ]
  },
  {
   "cell_type": "code",
   "execution_count": null,
   "metadata": {
    "collapsed": false,
    "deletable": false,
    "editable": true,
    "nbgrader": {
     "checksum": "28c4c267871440bad21089a47127d542",
     "grade": true,
     "grade_id": "plot",
     "locked": false,
     "points": 2,
     "schema_version": 1,
     "solution": true
    }
   },
   "outputs": [],
   "source": [
    "# REPLACE THE ERROR BELOW WITH YOUR OWN CODE\n",
    "raise NotImplementedError()"
   ]
  },
  {
   "cell_type": "markdown",
   "metadata": {
    "deletable": true,
    "editable": true
   },
   "source": [
    "That's it! If you want more challenge, you can still continue to optional problem 3."
   ]
  }
 ],
 "metadata": {
  "anaconda-cloud": {},
  "kernelspec": {
   "display_name": "Python [default]",
   "language": "python",
   "name": "python3"
  },
  "language_info": {
   "codemirror_mode": {
    "name": "ipython",
    "version": 3
   },
   "file_extension": ".py",
   "mimetype": "text/x-python",
   "name": "python",
   "nbconvert_exporter": "python",
   "pygments_lexer": "ipython3",
   "version": "3.5.2"
  }
 },
 "nbformat": 4,
 "nbformat_minor": 2
}
